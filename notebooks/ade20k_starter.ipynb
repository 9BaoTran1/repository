{
  "cells": [
    {
      "cell_type": "markdown",
      "metadata": {
        "id": "view-in-github",
        "colab_type": "text"
      },
      "source": [
        "<a href=\"https://colab.research.google.com/github/9BaoTran1/repository/blob/main/notebooks/ade20k_starter.ipynb\" target=\"_parent\"><img src=\"https://colab.research.google.com/assets/colab-badge.svg\" alt=\"Open In Colab\"/></a>"
      ]
    },
    {
      "cell_type": "markdown",
      "metadata": {
        "id": "BbwNYagj7VTh"
      },
      "source": [
        "# Starter Code ADE20K\n",
        "This notebook contains a tutorial on how to explore data in ADE20K"
      ]
    },
    {
      "cell_type": "code",
      "execution_count": 1,
      "metadata": {
        "id": "PKNGLA6W7VTl",
        "outputId": "949d47e9-cfe9-4424-a6fe-a5d502642b1e",
        "colab": {
          "base_uri": "https://localhost:8080/"
        }
      },
      "outputs": [
        {
          "output_type": "stream",
          "name": "stdout",
          "text": [
            "sh: 0: cannot open setup.sh: No such file\n"
          ]
        }
      ],
      "source": [
        "# Starter setup\n",
        "! sh setup.sh"
      ]
    },
    {
      "cell_type": "code",
      "execution_count": 2,
      "metadata": {
        "id": "ZYSCZJqy7VTo",
        "outputId": "83000bf9-2b3e-49a1-d930-ce31c8e59b40",
        "colab": {
          "base_uri": "https://localhost:8080/",
          "height": 358
        }
      },
      "outputs": [
        {
          "output_type": "error",
          "ename": "ModuleNotFoundError",
          "evalue": "No module named 'utils'",
          "traceback": [
            "\u001b[0;31m---------------------------------------------------------------------------\u001b[0m",
            "\u001b[0;31mModuleNotFoundError\u001b[0m                       Traceback (most recent call last)",
            "\u001b[0;32m<ipython-input-2-f45f2b0354b5>\u001b[0m in \u001b[0;36m<cell line: 8>\u001b[0;34m()\u001b[0m\n\u001b[1;32m      6\u001b[0m \u001b[0;32mimport\u001b[0m \u001b[0mnumpy\u001b[0m \u001b[0;32mas\u001b[0m \u001b[0mnp\u001b[0m\u001b[0;34m\u001b[0m\u001b[0;34m\u001b[0m\u001b[0m\n\u001b[1;32m      7\u001b[0m \u001b[0;32mimport\u001b[0m \u001b[0mpickle\u001b[0m \u001b[0;32mas\u001b[0m \u001b[0mpkl\u001b[0m\u001b[0;34m\u001b[0m\u001b[0;34m\u001b[0m\u001b[0m\n\u001b[0;32m----> 8\u001b[0;31m \u001b[0;32mfrom\u001b[0m \u001b[0mutils\u001b[0m \u001b[0;32mimport\u001b[0m \u001b[0mutils_ade20k\u001b[0m\u001b[0;34m\u001b[0m\u001b[0;34m\u001b[0m\u001b[0m\n\u001b[0m",
            "\u001b[0;31mModuleNotFoundError\u001b[0m: No module named 'utils'",
            "",
            "\u001b[0;31m---------------------------------------------------------------------------\u001b[0;32m\nNOTE: If your import is failing due to a missing package, you can\nmanually install dependencies using either !pip or !apt.\n\nTo view examples of installing some common dependencies, click the\n\"Open Examples\" button below.\n\u001b[0;31m---------------------------------------------------------------------------\u001b[0m\n"
          ],
          "errorDetails": {
            "actions": [
              {
                "action": "open_url",
                "actionText": "Open Examples",
                "url": "/notebooks/snippets/importing_libraries.ipynb"
              }
            ]
          }
        }
      ],
      "source": [
        "%load_ext autoreload\n",
        "%autoreload 2\n",
        "import IPython.display\n",
        "import matplotlib.pyplot as plt\n",
        "import cv2\n",
        "import numpy as np\n",
        "import pickle as pkl\n",
        "from utils import utils_ade20k"
      ]
    },
    {
      "cell_type": "markdown",
      "metadata": {
        "id": "soSM6sK67VTp"
      },
      "source": [
        "## Dataset index"
      ]
    },
    {
      "cell_type": "code",
      "execution_count": null,
      "metadata": {
        "id": "ItQWxsjP7VTp"
      },
      "outputs": [],
      "source": [
        "# Load index with global information about ADE20K\n",
        "DATASET_PATH = '../dataset/'\n",
        "index_file = 'index_ade20k.pkl'\n",
        "with open('{}/{}'.format(DATASET_PATH, index_file), 'rb') as f:\n",
        "    index_ade20k = pkl.load(f)"
      ]
    },
    {
      "cell_type": "code",
      "execution_count": null,
      "metadata": {
        "scrolled": true,
        "id": "Z5TOhcAu7VTp"
      },
      "outputs": [],
      "source": [
        "\n",
        "print(\"File loaded, description of the attributes:\")\n",
        "print('--------------------------------------------')\n",
        "for attribute_name, desc in index_ade20k['description'].items():\n",
        "    print('* {}: {}'.format(attribute_name, desc))\n",
        "print('--------------------------------------------\\n')\n",
        "\n",
        "i = 16868 # 16899, 16964\n",
        "nfiles = len(index_ade20k['filename'])\n",
        "file_name = index_ade20k['filename'][i]\n",
        "num_obj = index_ade20k['objectPresence'][:, i].sum()\n",
        "num_parts = index_ade20k['objectIsPart'][:, i].sum()\n",
        "count_obj = index_ade20k['objectPresence'][:, i].max()\n",
        "obj_id = np.where(index_ade20k['objectPresence'][:, i] == count_obj)[0][0]\n",
        "obj_name = index_ade20k['objectnames'][obj_id]\n",
        "full_file_name = '{}/{}'.format(index_ade20k['folder'][i], index_ade20k['filename'][i])\n",
        "print(\"The dataset has {} images\".format(nfiles))\n",
        "print(\"The image at index {} is {}\".format(i, file_name))\n",
        "print(\"It is located at {}\".format(full_file_name))\n",
        "print(\"It happens in a {}\".format(index_ade20k['scene'][i]))\n",
        "print(\"It has {} objects, of which {} are parts\".format(num_obj, num_parts))\n",
        "print(\"The most common object is object {} ({}), which appears {} times\".format(obj_name, obj_id, count_obj))"
      ]
    },
    {
      "cell_type": "markdown",
      "metadata": {
        "id": "xgmMrtkP7VTq"
      },
      "source": [
        "## Loading a segmentation object\n",
        "We will visualize the same object we were studying before. We can load a segmentation and instance mask for a given image using `utils_ade20k.loadAde20K`."
      ]
    },
    {
      "cell_type": "code",
      "execution_count": null,
      "metadata": {
        "id": "VvID0oDs7VTr"
      },
      "outputs": [],
      "source": [
        "root_path = DATASET_PATH\n",
        "\n",
        "# This function reads the image and mask files and generate instance and segmentation\n",
        "# masks\n",
        "info = utils_ade20k.loadAde20K('{}/{}'.format(root_path, full_file_name))\n",
        "img = cv2.imread(info['img_name'])[:,:,::-1]\n",
        "seg = cv2.imread(info['segm_name'])[:,:,::-1]\n",
        "seg_mask = seg.copy()\n",
        "\n",
        "# The 0 index in seg_mask corresponds to background (not annotated) pixels\n",
        "seg_mask[info['class_mask'] != obj_id+1] *= 0\n",
        "plt.figure(figsize=(15,5))\n",
        "\n",
        "plt.imshow(np.concatenate([img, seg, seg_mask], 1))\n",
        "plt.axis('off')\n",
        "if len(info['partclass_mask']):\n",
        "    plt.figure(figsize=(5*len(info['partclass_mask']), 5))\n",
        "    plt.title('Parts')\n",
        "    plt.imshow(np.concatenate(info['partclass_mask'],1))\n",
        "    plt.axis('off')\n",
        "\n"
      ]
    },
    {
      "cell_type": "markdown",
      "metadata": {
        "id": "1XPmtsvg7VTs"
      },
      "source": [
        "You can also inspect the attributes `info['objects']` and `info['parts']` for information about object names, attributes etc."
      ]
    },
    {
      "cell_type": "markdown",
      "metadata": {
        "id": "FD4NIlqG7VTt"
      },
      "source": [
        "## Amodal segmentation and Polygons\n",
        "We also provide access to the original polygons annotated, as well as the amodal segmentation of object instances"
      ]
    },
    {
      "cell_type": "code",
      "execution_count": null,
      "metadata": {
        "id": "dWGPi6uC7VTt"
      },
      "outputs": [],
      "source": [
        "# We have a segmentation for every object instance, showing object bounds without occlusions\n",
        "instances = [4, 10, 19]\n",
        "images = []\n",
        "for instance in instances:\n",
        "    file_instance = '{}/{}/instance_{:03}_{}'.format(\n",
        "        root_path, full_file_name.replace('.jpg', ''), instance, file_name.replace('.jpg', '.png'))\n",
        "    aux = cv2.imread(file_instance)\n",
        "    images.append(aux)\n",
        "plt.figure(figsize=(5*len(images), 5))\n",
        "plt.imshow(np.concatenate(images, 1))\n",
        "plt.axis('off')"
      ]
    },
    {
      "cell_type": "markdown",
      "metadata": {
        "id": "zsUYfiWj7VTu"
      },
      "source": [
        "Finally we can get the original polygons"
      ]
    },
    {
      "cell_type": "code",
      "execution_count": null,
      "metadata": {
        "id": "_cLlW4vp7VTu"
      },
      "outputs": [],
      "source": [
        "img = utils_ade20k.plot_polygon('{}/{}'.format(root_path, full_file_name), info)\n",
        "plt.figure(figsize=(15,15))\n",
        "plt.imshow(img[:, :, ::-1])\n",
        "plt.axis('off')"
      ]
    }
  ],
  "metadata": {
    "kernelspec": {
      "display_name": "Python 3",
      "language": "python",
      "name": "python3"
    },
    "language_info": {
      "codemirror_mode": {
        "name": "ipython",
        "version": 3
      },
      "file_extension": ".py",
      "mimetype": "text/x-python",
      "name": "python",
      "nbconvert_exporter": "python",
      "pygments_lexer": "ipython3",
      "version": "3.8.8"
    },
    "colab": {
      "provenance": [],
      "include_colab_link": true
    }
  },
  "nbformat": 4,
  "nbformat_minor": 0
}